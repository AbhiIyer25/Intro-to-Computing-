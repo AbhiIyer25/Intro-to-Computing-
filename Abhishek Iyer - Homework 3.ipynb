{
 "cells": [
  {
   "cell_type": "markdown",
   "id": "4c1bb07b",
   "metadata": {},
   "source": [
    "Question 1, Q1"
   ]
  },
  {
   "cell_type": "code",
   "execution_count": 51,
   "id": "f0ad1134",
   "metadata": {},
   "outputs": [
    {
     "data": {
      "text/plain": [
       "88"
      ]
     },
     "execution_count": 51,
     "metadata": {},
     "output_type": "execute_result"
    }
   ],
   "source": [
    "marks = {'Andy':88, 'Amy':66, 'James':90, 'Jules':55, 'Arthur':77}\n",
    "def grades(name):\n",
    "    if name in marks.keys():\n",
    "        return marks[name]\n",
    "    else:\n",
    "        print(\"Student's name cannot be found\")\n",
    "    \n",
    "grades('Andy')\n"
   ]
  },
  {
   "cell_type": "code",
   "execution_count": 52,
   "id": "40d9ab09",
   "metadata": {},
   "outputs": [
    {
     "name": "stdout",
     "output_type": "stream",
     "text": [
      "Student's name cannot be found\n"
     ]
    }
   ],
   "source": [
    "grades('Joe')"
   ]
  },
  {
   "cell_type": "markdown",
   "id": "87fbdc55",
   "metadata": {},
   "source": [
    "Question 1, Q2"
   ]
  },
  {
   "cell_type": "code",
   "execution_count": 53,
   "id": "4d13793a",
   "metadata": {},
   "outputs": [
    {
     "data": {
      "text/plain": [
       "75.2"
      ]
     },
     "execution_count": 53,
     "metadata": {},
     "output_type": "execute_result"
    }
   ],
   "source": [
    "def average():\n",
    "    total = sum(marks.values())\n",
    "    count = len(marks)\n",
    "    average = total/count\n",
    "    return average\n",
    "\n",
    "average()"
   ]
  },
  {
   "cell_type": "markdown",
   "id": "b7f007f2",
   "metadata": {},
   "source": [
    "Question 2"
   ]
  },
  {
   "cell_type": "code",
   "execution_count": 54,
   "id": "40766d2c",
   "metadata": {},
   "outputs": [
    {
     "name": "stdout",
     "output_type": "stream",
     "text": [
      "1 1\n",
      "2 4\n",
      "3 9\n",
      "4 16\n",
      "5 25\n",
      "6 36\n",
      "7 49\n",
      "greater than 8\n"
     ]
    }
   ],
   "source": [
    "def square_numbers(num=8):\n",
    "    n = 1\n",
    "    while n<num:\n",
    "        print(n, n**2)\n",
    "        n+=1\n",
    "    else:\n",
    "        print(\"greater than\", num)\n",
    "square_numbers()"
   ]
  },
  {
   "cell_type": "markdown",
   "id": "9b91e7b1",
   "metadata": {},
   "source": [
    "Question 3"
   ]
  },
  {
   "cell_type": "code",
   "execution_count": 45,
   "id": "3f47f933",
   "metadata": {},
   "outputs": [
    {
     "data": {
      "text/plain": [
       "210"
      ]
     },
     "execution_count": 45,
     "metadata": {},
     "output_type": "execute_result"
    }
   ],
   "source": [
    "def number_sum(num):\n",
    "    sum = 0\n",
    "    i = 1\n",
    "    while i<=num:\n",
    "        sum = sum + i\n",
    "        i+=1\n",
    "    return sum\n",
    "number_sum(20)"
   ]
  },
  {
   "cell_type": "code",
   "execution_count": 55,
   "id": "13c10303",
   "metadata": {},
   "outputs": [
    {
     "data": {
      "text/plain": [
       "55"
      ]
     },
     "execution_count": 55,
     "metadata": {},
     "output_type": "execute_result"
    }
   ],
   "source": [
    "number_sum(10)"
   ]
  },
  {
   "cell_type": "markdown",
   "id": "7a4ec368",
   "metadata": {},
   "source": [
    "Question 4"
   ]
  },
  {
   "cell_type": "code",
   "execution_count": 46,
   "id": "6fde48e4",
   "metadata": {},
   "outputs": [
    {
     "name": "stdout",
     "output_type": "stream",
     "text": [
      "1\n",
      "3\n",
      "6\n",
      "10\n",
      "15\n",
      "21\n",
      "28\n",
      "36\n",
      "45\n",
      "55\n",
      "66\n",
      "78\n",
      "91\n",
      "105\n",
      "120\n",
      "136\n",
      "153\n",
      "171\n",
      "190\n",
      "210\n"
     ]
    },
    {
     "data": {
      "text/plain": [
       "210"
      ]
     },
     "execution_count": 46,
     "metadata": {},
     "output_type": "execute_result"
    }
   ],
   "source": [
    "def sum_numbers(num):\n",
    "    sum = 0\n",
    "    for nums in range(1, num+1):\n",
    "        sum = sum + nums\n",
    "        print(sum)\n",
    "    return sum\n",
    "sum_numbers(20)"
   ]
  },
  {
   "cell_type": "code",
   "execution_count": 56,
   "id": "6fdc4b8e",
   "metadata": {},
   "outputs": [
    {
     "name": "stdout",
     "output_type": "stream",
     "text": [
      "1\n",
      "3\n",
      "6\n",
      "10\n",
      "15\n",
      "21\n",
      "28\n",
      "36\n",
      "45\n",
      "55\n"
     ]
    },
    {
     "data": {
      "text/plain": [
       "55"
      ]
     },
     "execution_count": 56,
     "metadata": {},
     "output_type": "execute_result"
    }
   ],
   "source": [
    "sum_numbers(10)"
   ]
  },
  {
   "cell_type": "markdown",
   "id": "d6fb5657",
   "metadata": {},
   "source": [
    "Question 5"
   ]
  },
  {
   "cell_type": "code",
   "execution_count": 57,
   "id": "e07f0e4e",
   "metadata": {},
   "outputs": [
    {
     "name": "stdout",
     "output_type": "stream",
     "text": [
      "50\n",
      "4950\n",
      "28.722813232690143\n"
     ]
    }
   ],
   "source": [
    "import statistics\n",
    "def number_stats():\n",
    "    numList = list(range(1,100))\n",
    "    print(statistics.mean(numList))\n",
    "    print(sum(numList))\n",
    "    print(statistics.stdev(numList))\n",
    "number_stats()"
   ]
  },
  {
   "cell_type": "markdown",
   "id": "7a13dfb2",
   "metadata": {},
   "source": [
    "Question 6, Q1"
   ]
  },
  {
   "cell_type": "code",
   "execution_count": 48,
   "id": "dbf62d7d",
   "metadata": {},
   "outputs": [
    {
     "data": {
      "text/plain": [
       "5"
      ]
     },
     "execution_count": 48,
     "metadata": {},
     "output_type": "execute_result"
    }
   ],
   "source": [
    "def minimal(v1, v2, v3, v4):\n",
    "    min = v1\n",
    "    if v2<min:\n",
    "        min = v2\n",
    "    if v3<min:\n",
    "        min = v3\n",
    "    if v4<min:\n",
    "        min = v4\n",
    "    return min\n",
    "minimal(7, 18, 11, 5)\n",
    "        "
   ]
  },
  {
   "cell_type": "code",
   "execution_count": 59,
   "id": "e736966b",
   "metadata": {},
   "outputs": [
    {
     "data": {
      "text/plain": [
       "1"
      ]
     },
     "execution_count": 59,
     "metadata": {},
     "output_type": "execute_result"
    }
   ],
   "source": [
    "minimal(1, 5, 100, 10)"
   ]
  },
  {
   "cell_type": "markdown",
   "id": "cf3dae13",
   "metadata": {},
   "source": [
    "Question 6, Q2"
   ]
  },
  {
   "cell_type": "code",
   "execution_count": 60,
   "id": "df02c0df",
   "metadata": {},
   "outputs": [
    {
     "name": "stdout",
     "output_type": "stream",
     "text": [
      "5\n"
     ]
    }
   ],
   "source": [
    "def printed():\n",
    "    min_value = minimal(7, 18, 11, 5)\n",
    "    print(min_value)\n",
    "printed()"
   ]
  }
 ],
 "metadata": {
  "kernelspec": {
   "display_name": "Python 3 (ipykernel)",
   "language": "python",
   "name": "python3"
  },
  "language_info": {
   "codemirror_mode": {
    "name": "ipython",
    "version": 3
   },
   "file_extension": ".py",
   "mimetype": "text/x-python",
   "name": "python",
   "nbconvert_exporter": "python",
   "pygments_lexer": "ipython3",
   "version": "3.9.7"
  }
 },
 "nbformat": 4,
 "nbformat_minor": 5
}
