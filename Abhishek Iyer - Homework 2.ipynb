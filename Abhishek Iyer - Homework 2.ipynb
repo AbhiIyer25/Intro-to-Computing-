{
 "cells": [
  {
   "cell_type": "markdown",
   "id": "264c83be",
   "metadata": {},
   "source": [
    "Question 1"
   ]
  },
  {
   "cell_type": "code",
   "execution_count": 78,
   "id": "d5bdd051",
   "metadata": {},
   "outputs": [
    {
     "name": "stdout",
     "output_type": "stream",
     "text": [
      "0\n",
      "1\n",
      "2\n",
      "3\n",
      "4\n"
     ]
    }
   ],
   "source": [
    "n = 0\n",
    "while n < 10:\n",
    "    print(n)\n",
    "    n+=1\n",
    "    if n==5:\n",
    "        break"
   ]
  },
  {
   "cell_type": "markdown",
   "id": "359dffa9",
   "metadata": {},
   "source": [
    "Question 2"
   ]
  },
  {
   "cell_type": "code",
   "execution_count": 79,
   "id": "9aa5701e",
   "metadata": {},
   "outputs": [
    {
     "name": "stdout",
     "output_type": "stream",
     "text": [
      "0\n",
      "1\n",
      "2\n",
      "3\n",
      "4\n",
      "5 is not less than 5\n"
     ]
    }
   ],
   "source": [
    "n = 0\n",
    "while n < 5:\n",
    "    print(n)\n",
    "    n+=1\n",
    "else:\n",
    "    print(n, \"is not less than 5\")"
   ]
  },
  {
   "cell_type": "markdown",
   "id": "1accb4e7",
   "metadata": {},
   "source": [
    "Question 3"
   ]
  },
  {
   "cell_type": "code",
   "execution_count": 80,
   "id": "aeacb2a8",
   "metadata": {},
   "outputs": [
    {
     "name": "stdout",
     "output_type": "stream",
     "text": [
      "I like banana\n",
      "I like orange\n",
      "apple is really a fruit?\n"
     ]
    }
   ],
   "source": [
    "fruits = [\"banana\", \"orange\", \"apple\", \"watermelon\", \"grapes\"]\n",
    "n = 0\n",
    "while n<5:\n",
    "    print(\"I like\", fruits[n])\n",
    "    n+=1\n",
    "    if fruits[n]==\"apple\":\n",
    "        break\n",
    "print(fruits[n], \"is really a fruit?\")"
   ]
  },
  {
   "cell_type": "markdown",
   "id": "ec316b0c",
   "metadata": {},
   "source": [
    "Question 4"
   ]
  },
  {
   "cell_type": "code",
   "execution_count": 81,
   "id": "a5c5351e",
   "metadata": {},
   "outputs": [
    {
     "name": "stdout",
     "output_type": "stream",
     "text": [
      "sum: 465\n"
     ]
    }
   ],
   "source": [
    "n = 1\n",
    "sum = 0\n",
    "while n<=30:\n",
    "    sum = sum + n\n",
    "    n+=1\n",
    "print(\"sum:\", sum)"
   ]
  },
  {
   "cell_type": "markdown",
   "id": "42feb99c",
   "metadata": {},
   "source": [
    "Question 5"
   ]
  },
  {
   "cell_type": "code",
   "execution_count": 82,
   "id": "9852f43c",
   "metadata": {},
   "outputs": [
    {
     "name": "stdout",
     "output_type": "stream",
     "text": [
      "Your grade is a 'C'\n"
     ]
    }
   ],
   "source": [
    "grade = 75\n",
    "if grade>=90:\n",
    "    print(\"Your grade is an 'A'\")\n",
    "elif grade>=80:\n",
    "    print(\"Your grade is a 'B'\")\n",
    "elif grade>=70:\n",
    "    print(\"Your grade is a 'C'\")\n",
    "elif grade>=60:\n",
    "    print(\"Your grade is a 'D'\")\n",
    "else:\n",
    "    print(\"Your grade is an 'F'\")"
   ]
  },
  {
   "cell_type": "markdown",
   "id": "541c2945",
   "metadata": {},
   "source": [
    "Question 6.1"
   ]
  },
  {
   "cell_type": "code",
   "execution_count": 83,
   "id": "556062be",
   "metadata": {},
   "outputs": [
    {
     "name": "stdout",
     "output_type": "stream",
     "text": [
      "{'Andy': 88, 'Amy': 66, 'James': 90, 'Jules': 55, 'Arthur': 77}\n",
      "Andy has a grade of 88\n",
      "Amy has a grade of 66\n",
      "James has a grade of 90\n",
      "Jules has a grade of 55\n",
      "Arthur has a grade of 77\n"
     ]
    }
   ],
   "source": [
    "marks = {'Andy': 88, 'Amy': 66, 'James': 90, 'Jules': 55, 'Arthur': 77}\n",
    "print(marks)\n",
    "for keys, values in marks.items():\n",
    "    print(keys, \"has a grade of\", values)"
   ]
  },
  {
   "cell_type": "markdown",
   "id": "6b8ec11c",
   "metadata": {},
   "source": [
    "Question 6.2"
   ]
  },
  {
   "cell_type": "code",
   "execution_count": 84,
   "id": "07dfb9dc",
   "metadata": {},
   "outputs": [
    {
     "name": "stdout",
     "output_type": "stream",
     "text": [
      "Mean: 75.2\n",
      "Maximal Grade: 90\n",
      "Minimal Grade: 55\n"
     ]
    }
   ],
   "source": [
    "sum = 0\n",
    "for grades in marks.values():\n",
    "    sum = sum + grades\n",
    "print(\"Mean:\", sum/len(marks))\n",
    "print(\"Maximal Grade:\", max(marks.values()))\n",
    "print(\"Minimal Grade:\", min(marks.values()))"
   ]
  },
  {
   "cell_type": "markdown",
   "id": "346672a0",
   "metadata": {},
   "source": [
    "Question 6.3"
   ]
  },
  {
   "cell_type": "code",
   "execution_count": 85,
   "id": "e93ce91b",
   "metadata": {},
   "outputs": [
    {
     "name": "stdout",
     "output_type": "stream",
     "text": [
      "Andy\n",
      "Amy\n"
     ]
    }
   ],
   "source": [
    "keys = list(marks.keys())\n",
    "for names in keys:\n",
    "    if \"J\" in names:\n",
    "        break\n",
    "    print(names)"
   ]
  },
  {
   "cell_type": "markdown",
   "id": "167c8bac",
   "metadata": {},
   "source": [
    "Question 6.4"
   ]
  },
  {
   "cell_type": "code",
   "execution_count": 86,
   "id": "564151ee",
   "metadata": {},
   "outputs": [
    {
     "name": "stdout",
     "output_type": "stream",
     "text": [
      "Andy\n",
      "Amy\n",
      "Arthur\n"
     ]
    }
   ],
   "source": [
    "keys = list(marks.keys())\n",
    "for names in keys:\n",
    "    if \"J\" in names:\n",
    "        continue\n",
    "    print(names)"
   ]
  }
 ],
 "metadata": {
  "kernelspec": {
   "display_name": "Python 3 (ipykernel)",
   "language": "python",
   "name": "python3"
  },
  "language_info": {
   "codemirror_mode": {
    "name": "ipython",
    "version": 3
   },
   "file_extension": ".py",
   "mimetype": "text/x-python",
   "name": "python",
   "nbconvert_exporter": "python",
   "pygments_lexer": "ipython3",
   "version": "3.9.7"
  }
 },
 "nbformat": 4,
 "nbformat_minor": 5
}
